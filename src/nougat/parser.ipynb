{
 "cells": [
  {
   "cell_type": "code",
   "execution_count": 2,
   "metadata": {},
   "outputs": [
    {
     "name": "stdout",
     "output_type": "stream",
     "text": [
      "PDF has been converted to images successfully.\n"
     ]
    }
   ],
   "source": [
    "from pdf2image import convert_from_path\n",
    "\n",
    "pdf_path = '../QLoRA.pdf'\n",
    "\n",
    "# convert PDF to images\n",
    "images = convert_from_path(pdf_path)\n",
    "\n",
    "# save each page as an image\n",
    "for i, image in enumerate(images):\n",
    "    image.save(f'page_{i + 1}.png', 'PNG')\n",
    "    if i == 2:\n",
    "        break\n",
    "\n",
    "print(\"PDF has been converted to images successfully.\")"
   ]
  },
  {
   "cell_type": "code",
   "execution_count": 9,
   "metadata": {},
   "outputs": [],
   "source": [
    "from huggingface_hub import hf_hub_download\n",
    "import re\n",
    "from PIL import Image\n",
    "\n",
    "from transformers import NougatProcessor, VisionEncoderDecoderModel\n",
    "from datasets import load_dataset\n",
    "import torch\n",
    "\n",
    "processor = NougatProcessor.from_pretrained(\"facebook/nougat-base\")\n",
    "model = VisionEncoderDecoderModel.from_pretrained(\"facebook/nougat-base\")\n",
    "\n",
    "device = \"cuda\" if torch.cuda.is_available() else \"cpu\"\n",
    "model.to(device)\n",
    "# prepare PDF image for the model\n",
    "# filepath = hf_hub_download(repo_id=\"hf-internal-testing/fixtures_docvqa\", filename=\"nougat_paper.png\", repo_type=\"dataset\")\n",
    "filepath = \"page_2.png\"\n",
    "image = Image.open(filepath)\n",
    "pixel_values = processor(image, return_tensors=\"pt\").pixel_values\n",
    "\n",
    "# generate transcription (here we only generate 30 tokens)\n",
    "outputs = model.generate(\n",
    "    pixel_values.to(device),\n",
    "    min_length=1,\n",
    "    max_new_tokens=300,\n",
    "    bad_words_ids=[[processor.tokenizer.unk_token_id]],\n",
    ")"
   ]
  },
  {
   "cell_type": "code",
   "execution_count": 10,
   "metadata": {},
   "outputs": [
    {
     "name": "stdout",
     "output_type": "stream",
     "text": [
      "['that are tuned by backpropagating gradients through the quantized weights.\\n\\nQLoRA reduces the average memory requirements of finetuning a 65B parameter model from \\\\(>\\\\)780GB of GPU memory to \\\\(<\\\\)48GB without degrading the runtime or predictive performance compared to a 16-bit fully finetuned baseline. This marks a significant shift in accessibility of LLM finetuning: now the largest publicly available models to date finetunable on a single GPU. Using QLoRA, we train the **Guanaco** family of models, with the second best model reaching 97.8% of the performance level of ChatGPT on the Vicuna [10] benchmark, while being trainable in less than 12 hours on a single consumer GPU; using a single professional GPU over 24 hours we achieve 99.3% with our largest model, essentially closing the gap to ChatGPT on the Vicuna benchmark. When deployed, our smallest **Guanaco** model (7B parameters) requires just 5 GB of memory and outperforms a 26 GB Alpaca model by more than 20 percentage points on the Vicuna benchmark (Table 6).\\n\\nQLoRA introduces multiple innovations designed to reduce memory use without sacrificing performance: (1) **4-bit NormalFloat** ']\n"
     ]
    }
   ],
   "source": [
    "sequence = processor.batch_decode(outputs, skip_special_tokens=True)\n",
    "sequence = processor.post_process_generation(sequence, fix_markdown=False)\n",
    "# note: we're using repr here such for the sake of printing the \\n characters, feel free to just print the sequence\n",
    "print(repr(sequence))"
   ]
  },
  {
   "cell_type": "code",
   "execution_count": 12,
   "metadata": {},
   "outputs": [
    {
     "name": "stdout",
     "output_type": "stream",
     "text": [
      "Markdown content has been written to example.md\n"
     ]
    }
   ],
   "source": [
    "markdown_file_path = 'QLoRA.md'\n",
    "\n",
    "with open(markdown_file_path, 'w') as file:\n",
    "    file.write(sequence[0])\n",
    "\n",
    "print(f\"Markdown content has been written to {markdown_file_path}\")"
   ]
  },
  {
   "cell_type": "code",
   "execution_count": null,
   "metadata": {},
   "outputs": [],
   "source": []
  }
 ],
 "metadata": {
  "kernelspec": {
   "display_name": "base",
   "language": "python",
   "name": "python3"
  },
  "language_info": {
   "codemirror_mode": {
    "name": "ipython",
    "version": 3
   },
   "file_extension": ".py",
   "mimetype": "text/x-python",
   "name": "python",
   "nbconvert_exporter": "python",
   "pygments_lexer": "ipython3",
   "version": "3.12.4"
  }
 },
 "nbformat": 4,
 "nbformat_minor": 2
}
